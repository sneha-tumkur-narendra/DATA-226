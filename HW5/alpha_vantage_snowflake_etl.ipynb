{
  "nbformat": 4,
  "nbformat_minor": 0,
  "metadata": {
    "colab": {
      "provenance": []
    },
    "kernelspec": {
      "name": "python3",
      "display_name": "Python 3"
    },
    "language_info": {
      "name": "python"
    }
  },
  "cells": [
    {
      "cell_type": "code",
      "source": [
        "# Install Libraries\n",
        "!pip install requests snowflake-connector-python pandas"
      ],
      "metadata": {
        "colab": {
          "base_uri": "https://localhost:8080/"
        },
        "collapsed": true,
        "id": "Y2BJuk-zNkBg",
        "outputId": "8165438c-b4bf-4caf-d4c6-f43a2c569f2a"
      },
      "execution_count": 1,
      "outputs": [
        {
          "output_type": "stream",
          "name": "stdout",
          "text": [
            "Requirement already satisfied: requests in /usr/local/lib/python3.12/dist-packages (2.32.4)\n",
            "Requirement already satisfied: snowflake-connector-python in /usr/local/lib/python3.12/dist-packages (3.17.4)\n",
            "Requirement already satisfied: pandas in /usr/local/lib/python3.12/dist-packages (2.2.2)\n",
            "Requirement already satisfied: charset_normalizer<4,>=2 in /usr/local/lib/python3.12/dist-packages (from requests) (3.4.3)\n",
            "Requirement already satisfied: idna<4,>=2.5 in /usr/local/lib/python3.12/dist-packages (from requests) (3.10)\n",
            "Requirement already satisfied: urllib3<3,>=1.21.1 in /usr/local/lib/python3.12/dist-packages (from requests) (2.5.0)\n",
            "Requirement already satisfied: certifi>=2017.4.17 in /usr/local/lib/python3.12/dist-packages (from requests) (2025.8.3)\n",
            "Requirement already satisfied: asn1crypto<2.0.0,>0.24.0 in /usr/local/lib/python3.12/dist-packages (from snowflake-connector-python) (1.5.1)\n",
            "Requirement already satisfied: boto3>=1.24 in /usr/local/lib/python3.12/dist-packages (from snowflake-connector-python) (1.40.41)\n",
            "Requirement already satisfied: botocore>=1.24 in /usr/local/lib/python3.12/dist-packages (from snowflake-connector-python) (1.40.41)\n",
            "Requirement already satisfied: cffi<2.0.0,>=1.9 in /usr/local/lib/python3.12/dist-packages (from snowflake-connector-python) (1.17.1)\n",
            "Requirement already satisfied: cryptography>=3.1.0 in /usr/local/lib/python3.12/dist-packages (from snowflake-connector-python) (43.0.3)\n",
            "Requirement already satisfied: pyOpenSSL<26.0.0,>=22.0.0 in /usr/local/lib/python3.12/dist-packages (from snowflake-connector-python) (24.2.1)\n",
            "Requirement already satisfied: pyjwt<3.0.0 in /usr/local/lib/python3.12/dist-packages (from snowflake-connector-python) (2.10.1)\n",
            "Requirement already satisfied: pytz in /usr/local/lib/python3.12/dist-packages (from snowflake-connector-python) (2025.2)\n",
            "Requirement already satisfied: packaging in /usr/local/lib/python3.12/dist-packages (from snowflake-connector-python) (25.0)\n",
            "Requirement already satisfied: typing_extensions<5,>=4.3 in /usr/local/lib/python3.12/dist-packages (from snowflake-connector-python) (4.15.0)\n",
            "Requirement already satisfied: filelock<4,>=3.5 in /usr/local/lib/python3.12/dist-packages (from snowflake-connector-python) (3.19.1)\n",
            "Requirement already satisfied: sortedcontainers>=2.4.0 in /usr/local/lib/python3.12/dist-packages (from snowflake-connector-python) (2.4.0)\n",
            "Requirement already satisfied: platformdirs<5.0.0,>=2.6.0 in /usr/local/lib/python3.12/dist-packages (from snowflake-connector-python) (4.4.0)\n",
            "Requirement already satisfied: tomlkit in /usr/local/lib/python3.12/dist-packages (from snowflake-connector-python) (0.13.3)\n",
            "Requirement already satisfied: numpy>=1.26.0 in /usr/local/lib/python3.12/dist-packages (from pandas) (2.0.2)\n",
            "Requirement already satisfied: python-dateutil>=2.8.2 in /usr/local/lib/python3.12/dist-packages (from pandas) (2.9.0.post0)\n",
            "Requirement already satisfied: tzdata>=2022.7 in /usr/local/lib/python3.12/dist-packages (from pandas) (2025.2)\n",
            "Requirement already satisfied: jmespath<2.0.0,>=0.7.1 in /usr/local/lib/python3.12/dist-packages (from boto3>=1.24->snowflake-connector-python) (1.0.1)\n",
            "Requirement already satisfied: s3transfer<0.15.0,>=0.14.0 in /usr/local/lib/python3.12/dist-packages (from boto3>=1.24->snowflake-connector-python) (0.14.0)\n",
            "Requirement already satisfied: pycparser in /usr/local/lib/python3.12/dist-packages (from cffi<2.0.0,>=1.9->snowflake-connector-python) (2.23)\n",
            "Requirement already satisfied: six>=1.5 in /usr/local/lib/python3.12/dist-packages (from python-dateutil>=2.8.2->pandas) (1.17.0)\n"
          ]
        }
      ]
    },
    {
      "cell_type": "code",
      "source": [
        "import requests\n",
        "import pandas as pd\n",
        "from datetime import datetime, timedelta\n",
        "import snowflake.connector\n",
        "# Import the userdata module to securely read secrets from Colab\n",
        "from google.colab import userdata"
      ],
      "metadata": {
        "id": "vTBwhr0nSIc2"
      },
      "execution_count": 2,
      "outputs": []
    },
    {
      "cell_type": "code",
      "source": [
        "STOCK_SYMBOL = \"IBM\"\n",
        "TABLE_NAME = \"RAW.STOCK_PRICES\""
      ],
      "metadata": {
        "id": "ZjwU-mxASP7Q"
      },
      "execution_count": 3,
      "outputs": []
    },
    {
      "cell_type": "code",
      "source": [
        "# Securely Retrieve Credentials\n",
        "try:\n",
        "    API_KEY = userdata.get('ALPHA_VANTAGE_API_KEY')\n",
        "    SNOWFLAKE_USER = userdata.get('SNOWFLAKE_USER')\n",
        "    SNOWFLAKE_PASSWORD = userdata.get('SNOWFLAKE_PASSWORD')\n",
        "    SNOWFLAKE_ACCOUNT = userdata.get('SNOWFLAKE_ACCOUNT')\n",
        "    SNOWFLAKE_WAREHOUSE = userdata.get('SNOWFLAKE_WAREHOUSE')\n",
        "    SNOWFLAKE_ROLE = userdata.get('SNOWFLAKE_ROLE')\n",
        "    SNOWFLAKE_DATABASE = userdata.get('SNOWFLAKE_DATABASE')\n",
        "\n",
        "    if not all([API_KEY, SNOWFLAKE_USER, SNOWFLAKE_PASSWORD, SNOWFLAKE_ACCOUNT, SNOWFLAKE_WAREHOUSE, SNOWFLAKE_DATABASE]):\n",
        "        raise ValueError(\"One or more required secrets are missing. Please check the Colab Secrets panel.\")\n",
        "\n",
        "except Exception as e:\n",
        "    print(f\"Error retrieving secrets: {e}\")"
      ],
      "metadata": {
        "id": "7tVNM9z-MnfS"
      },
      "execution_count": 4,
      "outputs": []
    },
    {
      "cell_type": "code",
      "source": [
        "# Function to fetch data\n",
        "def fetch_stock_data(symbol, api_key):\n",
        "    \"\"\"Reads the last 90 days of price info via the Alpha Vantage API.\"\"\"\n",
        "    print(f\"\\nExtracting data for {symbol} (Last 90 Days)\")\n",
        "\n",
        "    ALPHA_VANTAGE_URL = f'https://www.alphavantage.co/query?function=TIME_SERIES_DAILY&symbol={symbol}&apikey={api_key}'\n",
        "\n",
        "    params = {\n",
        "        \"function\": \"TIME_SERIES_DAILY\",\n",
        "        \"symbol\": symbol,\n",
        "        \"outputsize\": \"compact\",\n",
        "        \"apikey\": api_key,\n",
        "        \"datatype\": \"json\"\n",
        "    }\n",
        "\n",
        "    response = requests.get(ALPHA_VANTAGE_URL, params=params)\n",
        "    response.raise_for_status()\n",
        "    data = response.json()\n",
        "\n",
        "    time_series = data[\"Time Series (Daily)\"]\n",
        "    records = []\n",
        "\n",
        "    # Calculate the cutoff date for 90 days ago\n",
        "    ninety_days_ago = datetime.now() - timedelta(days=90)\n",
        "\n",
        "    for date_str, values in time_series.items():\n",
        "        #print(date_str, \"==\", data[\"Time Series (Daily)\"][date_str])\n",
        "        record_date = datetime.strptime(date_str, '%Y-%m-%d').date()\n",
        "\n",
        "        # Filter to only the last 90 days (including the date)\n",
        "        if record_date >= ninety_days_ago.date():\n",
        "             records.append({\n",
        "                \"symbol\": symbol,\n",
        "                \"date\": date_str,\n",
        "                \"open\": float(values[\"1. open\"]),\n",
        "                \"high\": float(values[\"2. high\"]),\n",
        "                \"low\": float(values[\"3. low\"]),\n",
        "                \"close\": float(values[\"4. close\"]),\n",
        "                \"volume\": int(values[\"5. volume\"])\n",
        "            })\n",
        "\n",
        "    print(f\"Successfully retrieved {len(records)} trading days for the last 90 days\")\n",
        "    return records"
      ],
      "metadata": {
        "id": "Nn5kdqKBPsRj"
      },
      "execution_count": 5,
      "outputs": []
    },
    {
      "cell_type": "code",
      "source": [
        "# ETL function with Transaction Logic\n",
        "def run_etl_pipeline(symbol, stock_data):\n",
        "    \"\"\"\n",
        "    Connects to Snowflake, ensures table existence, and executes a transactional\n",
        "    DELETE and INSERT to ensure idempotency.\n",
        "    \"\"\"\n",
        "    conn = None\n",
        "    try:\n",
        "        print(\"\\nConnecting to Snowflake\")\n",
        "\n",
        "        # Connect to Snowflake\n",
        "        conn = snowflake.connector.connect(\n",
        "            user=SNOWFLAKE_USER,\n",
        "            password=SNOWFLAKE_PASSWORD,\n",
        "            account=SNOWFLAKE_ACCOUNT,\n",
        "            warehouse=SNOWFLAKE_WAREHOUSE,\n",
        "            role=SNOWFLAKE_ROLE,\n",
        "            database=SNOWFLAKE_DATABASE\n",
        "        )\n",
        "        cur = conn.cursor()\n",
        "\n",
        "        # Create a table under \"raw\" schema if it doesn't exist\n",
        "        create_table_sql = f\"\"\"\n",
        "        CREATE TABLE IF NOT EXISTS {TABLE_NAME} (\n",
        "            symbol VARCHAR(10) NOT NULL,\n",
        "            date DATE NOT NULL,\n",
        "            open FLOAT,\n",
        "            close FLOAT,\n",
        "            high FLOAT,\n",
        "            low FLOAT,\n",
        "            volume INT,\n",
        "            PRIMARY KEY (symbol, date)\n",
        "        );\n",
        "        \"\"\"\n",
        "        cur.execute(f\"CREATE SCHEMA IF NOT EXISTS {TABLE_NAME.split('.')[0]}\")\n",
        "        cur.execute(create_table_sql)\n",
        "        print(f\"Created table {TABLE_NAME} successfully\")\n",
        "\n",
        "        cur.execute('BEGIN')\n",
        "        print(\"Starting SQL transaction\")\n",
        "\n",
        "        # Delete all records from the table\n",
        "        delete_sql = f\"DELETE FROM {TABLE_NAME} WHERE symbol = '{symbol}';\"\n",
        "        cur.execute(delete_sql)\n",
        "        print(f\"Deleted {cur.rowcount} existing records for {symbol}\")\n",
        "\n",
        "        # Populate the table with the records using INSERT SQL\n",
        "        insert_sql = f\"\"\"\n",
        "        INSERT INTO {TABLE_NAME} (symbol, date, open, close, high, low, volume)\n",
        "        VALUES (%s, %s, %s, %s, %s, %s, %s)\n",
        "        \"\"\"\n",
        "\n",
        "        # Prepare the data for batch insertion\n",
        "        insert_data = [\n",
        "            (r['symbol'], r['date'], r['open'], r['close'], r['high'], r['low'], r['volume'])\n",
        "            for r in stock_data\n",
        "        ]\n",
        "\n",
        "        # Execute the batch insert\n",
        "        cur.executemany(insert_sql, insert_data)\n",
        "\n",
        "        # Commit the transaction if successful\n",
        "        cur.execute('COMMIT')\n",
        "        print(f\"Successfully added {len(insert_data)} records to {TABLE_NAME}\")\n",
        "\n",
        "        return True # Transaction successful\n",
        "\n",
        "    except Exception as e:\n",
        "        if conn:\n",
        "            cur.execute('ROLLBACK')\n",
        "            print(\"Transaction failed. Rolling back changes.\")\n",
        "        print(f\"An error occurred during ETL: {e}\")\n",
        "        return False # Transaction failed\n",
        "\n",
        "    finally:\n",
        "        if conn:\n",
        "            conn.close()\n"
      ],
      "metadata": {
        "id": "P8CZHm8CcsS-"
      },
      "execution_count": 6,
      "outputs": []
    },
    {
      "cell_type": "code",
      "source": [
        "# Function to check record count for idempotency\n",
        "def check_record_count(symbol):\n",
        "    \"\"\"Checks the number of records in the table for the given symbol.\"\"\"\n",
        "    conn = None\n",
        "    try:\n",
        "        conn = snowflake.connector.connect(\n",
        "            user=SNOWFLAKE_USER,\n",
        "            password=SNOWFLAKE_PASSWORD,\n",
        "            account=SNOWFLAKE_ACCOUNT,\n",
        "            warehouse=SNOWFLAKE_WAREHOUSE,\n",
        "            role=SNOWFLAKE_ROLE,\n",
        "            database=SNOWFLAKE_DATABASE\n",
        "        )\n",
        "        cur = conn.cursor()\n",
        "\n",
        "        count_sql = f\"SELECT COUNT(*) FROM {TABLE_NAME} WHERE symbol = '{symbol}';\"\n",
        "        cur.execute(count_sql)\n",
        "        count = cur.fetchone()[0]\n",
        "        return count\n",
        "\n",
        "    except Exception as e:\n",
        "        print(f\"Error checking record count: {e}\")\n",
        "        return -1\n",
        "    finally:\n",
        "        if conn:\n",
        "            conn.close()"
      ],
      "metadata": {
        "id": "2R8Jex6zc3_e"
      },
      "execution_count": 7,
      "outputs": []
    },
    {
      "cell_type": "code",
      "source": [
        "# Main Execution Block\n",
        "def main():\n",
        "\n",
        "    try:\n",
        "        # Fetch the stock data once\n",
        "        stock_data = fetch_stock_data(STOCK_SYMBOL, API_KEY)\n",
        "        print(stock_data)\n",
        "        EXPECTED_RECORDS = len(stock_data)\n",
        "\n",
        "        print(f\"\\nRUN 1: Running ETL pipeline for {STOCK_SYMBOL}\")\n",
        "\n",
        "        # Run 1\n",
        "        run_etl_pipeline(STOCK_SYMBOL, stock_data)\n",
        "\n",
        "        # Check records after Run 1\n",
        "        count_after_run1 = check_record_count(STOCK_SYMBOL)\n",
        "        print(f\"\\nRecord count after first run: {count_after_run1} (Expected: {EXPECTED_RECORDS} trading days)\")\n",
        "\n",
        "        print(\"\\nRUN 2: Running pipeline again to test Idempotency\")\n",
        "\n",
        "        # Run 2\n",
        "        run_etl_pipeline(STOCK_SYMBOL, stock_data)\n",
        "\n",
        "        # Check records after Run 2\n",
        "        count_after_run2 = check_record_count(STOCK_SYMBOL)\n",
        "        print(f\"\\nRecord count after second run (Idempotency Check): {count_after_run2} (Expected: {EXPECTED_RECORDS} trading days)\")\n",
        "\n",
        "        # Demonstrate Idempotency\n",
        "        if count_after_run1 == count_after_run2 and count_after_run1 == EXPECTED_RECORDS:\n",
        "            print(\"\\n\\nIdempotency successfully demonstrated\")\n",
        "            print(\"The record count remained the same after two consecutive runs\")\n",
        "            print(\"It confirms the transactional DELETE/INSERT works as an idempotent operation\")\n",
        "        else:\n",
        "            print(\"\\n\\nIdempotency check failed\")\n",
        "\n",
        "    except Exception as e:\n",
        "        print(f\"\\nError in main execution: {e}\")\n",
        "\n",
        "if __name__ == \"__main__\":\n",
        "    main()"
      ],
      "metadata": {
        "colab": {
          "base_uri": "https://localhost:8080/"
        },
        "id": "2mQ68bPGc5i6",
        "outputId": "ee97e6ba-d6c4-4285-f34d-d3fbbcbdd1aa"
      },
      "execution_count": 8,
      "outputs": [
        {
          "output_type": "stream",
          "name": "stdout",
          "text": [
            "\n",
            "Extracting data for IBM (Last 90 Days)\n",
            "Successfully retrieved 62 trading days for the last 90 days\n",
            "[{'symbol': 'IBM', 'date': '2025-09-29', 'open': 286.0, 'high': 286.0, 'low': 279.66, 'close': 279.8, 'volume': 6022125}, {'symbol': 'IBM', 'date': '2025-09-26', 'open': 280.51, 'high': 288.85, 'low': 280.11, 'close': 284.31, 'volume': 9063938}, {'symbol': 'IBM', 'date': '2025-09-25', 'open': 272.935, 'high': 284.23, 'low': 271.148, 'close': 281.44, 'volume': 11506192}, {'symbol': 'IBM', 'date': '2025-09-24', 'open': 272.62, 'high': 273.6499, 'low': 267.3, 'close': 267.53, 'volume': 3159924}, {'symbol': 'IBM', 'date': '2025-09-23', 'open': 272.7, 'high': 273.2962, 'low': 269.265, 'close': 272.24, 'volume': 5394121}, {'symbol': 'IBM', 'date': '2025-09-22', 'open': 266.62, 'high': 272.31, 'low': 266.0, 'close': 271.37, 'volume': 5030540}, {'symbol': 'IBM', 'date': '2025-09-19', 'open': 266.05, 'high': 267.87, 'low': 263.64, 'close': 266.4, 'volume': 9858112}, {'symbol': 'IBM', 'date': '2025-09-18', 'open': 258.86, 'high': 265.23, 'low': 256.8004, 'close': 265.0, 'volume': 4988421}, {'symbol': 'IBM', 'date': '2025-09-17', 'open': 257.495, 'high': 260.9644, 'low': 257.01, 'close': 259.08, 'volume': 3974785}, {'symbol': 'IBM', 'date': '2025-09-16', 'open': 256.26, 'high': 258.0, 'low': 254.41, 'close': 257.52, 'volume': 2719918}, {'symbol': 'IBM', 'date': '2025-09-15', 'open': 254.02, 'high': 259.05, 'low': 254.0, 'close': 256.24, 'volume': 4028365}, {'symbol': 'IBM', 'date': '2025-09-12', 'open': 256.95, 'high': 257.25, 'low': 252.425, 'close': 253.44, 'volume': 3433300}, {'symbol': 'IBM', 'date': '2025-09-11', 'open': 257.56, 'high': 258.545, 'low': 255.655, 'close': 257.01, 'volume': 3576048}, {'symbol': 'IBM', 'date': '2025-09-10', 'open': 259.65, 'high': 260.08, 'low': 254.56, 'close': 256.88, 'volume': 5185420}, {'symbol': 'IBM', 'date': '2025-09-09', 'open': 256.12, 'high': 260.66, 'low': 254.88, 'close': 259.11, 'volume': 4931105}, {'symbol': 'IBM', 'date': '2025-09-08', 'open': 248.63, 'high': 257.15, 'low': 247.02, 'close': 256.09, 'volume': 6940270}, {'symbol': 'IBM', 'date': '2025-09-05', 'open': 248.23, 'high': 249.03, 'low': 245.45, 'close': 248.53, 'volume': 3147478}, {'symbol': 'IBM', 'date': '2025-09-04', 'open': 245.42, 'high': 249.28, 'low': 242.85, 'close': 247.18, 'volume': 4765087}, {'symbol': 'IBM', 'date': '2025-09-03', 'open': 240.02, 'high': 244.25, 'low': 239.41, 'close': 244.1, 'volume': 3156289}, {'symbol': 'IBM', 'date': '2025-09-02', 'open': 240.9, 'high': 241.55, 'low': 238.25, 'close': 241.5, 'volume': 3469501}, {'symbol': 'IBM', 'date': '2025-08-29', 'open': 245.23, 'high': 245.4599, 'low': 241.72, 'close': 243.49, 'volume': 2967558}, {'symbol': 'IBM', 'date': '2025-08-28', 'open': 245.43, 'high': 245.88, 'low': 243.36, 'close': 245.73, 'volume': 2820817}, {'symbol': 'IBM', 'date': '2025-08-27', 'open': 242.87, 'high': 245.96, 'low': 242.0, 'close': 244.84, 'volume': 3698372}, {'symbol': 'IBM', 'date': '2025-08-26', 'open': 241.02, 'high': 244.98, 'low': 240.38, 'close': 242.63, 'volume': 5386582}, {'symbol': 'IBM', 'date': '2025-08-25', 'open': 242.565, 'high': 242.565, 'low': 239.43, 'close': 239.43, 'volume': 3513327}, {'symbol': 'IBM', 'date': '2025-08-22', 'open': 240.74, 'high': 243.68, 'low': 240.22, 'close': 242.09, 'volume': 3134882}, {'symbol': 'IBM', 'date': '2025-08-21', 'open': 242.21, 'high': 242.5, 'low': 238.65, 'close': 239.4, 'volume': 2991902}, {'symbol': 'IBM', 'date': '2025-08-20', 'open': 242.11, 'high': 242.88, 'low': 240.34, 'close': 242.55, 'volume': 3240064}, {'symbol': 'IBM', 'date': '2025-08-19', 'open': 240.0, 'high': 242.83, 'low': 239.49, 'close': 241.28, 'volume': 3328305}, {'symbol': 'IBM', 'date': '2025-08-18', 'open': 239.57, 'high': 241.42, 'low': 239.1158, 'close': 239.45, 'volume': 3569594}, {'symbol': 'IBM', 'date': '2025-08-15', 'open': 237.61, 'high': 240.62, 'low': 236.77, 'close': 239.72, 'volume': 4344322}, {'symbol': 'IBM', 'date': '2025-08-14', 'open': 238.25, 'high': 239.0, 'low': 235.62, 'close': 237.11, 'volume': 4556725}, {'symbol': 'IBM', 'date': '2025-08-13', 'open': 236.2, 'high': 240.8411, 'low': 236.2, 'close': 240.07, 'volume': 5663562}, {'symbol': 'IBM', 'date': '2025-08-12', 'open': 236.53, 'high': 237.96, 'low': 233.36, 'close': 234.77, 'volume': 8800597}, {'symbol': 'IBM', 'date': '2025-08-11', 'open': 242.24, 'high': 243.15, 'low': 234.7, 'close': 236.3, 'volume': 9381960}, {'symbol': 'IBM', 'date': '2025-08-08', 'open': 248.88, 'high': 249.48, 'low': 241.65, 'close': 242.27, 'volume': 6828390}, {'symbol': 'IBM', 'date': '2025-08-07', 'open': 252.81, 'high': 255.0, 'low': 248.875, 'close': 250.16, 'volume': 6251285}, {'symbol': 'IBM', 'date': '2025-08-06', 'open': 251.53, 'high': 254.32, 'low': 249.28, 'close': 252.28, 'volume': 3692105}, {'symbol': 'IBM', 'date': '2025-08-05', 'open': 252.0, 'high': 252.8, 'low': 248.995, 'close': 250.67, 'volume': 5823016}, {'symbol': 'IBM', 'date': '2025-08-04', 'open': 251.05, 'high': 252.08, 'low': 248.11, 'close': 251.98, 'volume': 5280588}, {'symbol': 'IBM', 'date': '2025-08-01', 'open': 251.405, 'high': 251.4791, 'low': 245.61, 'close': 250.05, 'volume': 9683404}, {'symbol': 'IBM', 'date': '2025-07-31', 'open': 259.57, 'high': 259.99, 'low': 252.22, 'close': 253.15, 'volume': 6739092}, {'symbol': 'IBM', 'date': '2025-07-30', 'open': 261.6, 'high': 262.0, 'low': 258.9, 'close': 260.26, 'volume': 3718290}, {'symbol': 'IBM', 'date': '2025-07-29', 'open': 264.3, 'high': 265.7999, 'low': 261.02, 'close': 262.41, 'volume': 4627265}, {'symbol': 'IBM', 'date': '2025-07-28', 'open': 260.3, 'high': 264.0, 'low': 259.61, 'close': 263.21, 'volume': 5192516}, {'symbol': 'IBM', 'date': '2025-07-25', 'open': 260.02, 'high': 260.8, 'low': 256.35, 'close': 259.72, 'volume': 7758653}, {'symbol': 'IBM', 'date': '2025-07-24', 'open': 261.25, 'high': 262.0486, 'low': 252.75, 'close': 260.51, 'volume': 22647720}, {'symbol': 'IBM', 'date': '2025-07-23', 'open': 284.3, 'high': 288.08, 'low': 281.44, 'close': 282.01, 'volume': 8105906}, {'symbol': 'IBM', 'date': '2025-07-22', 'open': 284.74, 'high': 284.88, 'low': 281.25, 'close': 281.96, 'volume': 4824219}, {'symbol': 'IBM', 'date': '2025-07-21', 'open': 286.29, 'high': 287.73, 'low': 284.38, 'close': 284.71, 'volume': 3051791}, {'symbol': 'IBM', 'date': '2025-07-18', 'open': 283.38, 'high': 287.16, 'low': 282.22, 'close': 285.87, 'volume': 4478165}, {'symbol': 'IBM', 'date': '2025-07-17', 'open': 281.5, 'high': 283.4566, 'low': 280.9, 'close': 282.0, 'volume': 3337168}, {'symbol': 'IBM', 'date': '2025-07-16', 'open': 282.75, 'high': 283.87, 'low': 279.87, 'close': 281.92, 'volume': 2804831}, {'symbol': 'IBM', 'date': '2025-07-15', 'open': 283.77, 'high': 284.155, 'low': 280.7301, 'close': 282.7, 'volume': 2864106}, {'symbol': 'IBM', 'date': '2025-07-14', 'open': 282.83, 'high': 284.925, 'low': 281.71, 'close': 283.79, 'volume': 2857401}, {'symbol': 'IBM', 'date': '2025-07-11', 'open': 285.01, 'high': 287.43, 'low': 282.92, 'close': 283.59, 'volume': 3790679}, {'symbol': 'IBM', 'date': '2025-07-10', 'open': 288.9, 'high': 288.9, 'low': 282.21, 'close': 287.43, 'volume': 3489068}, {'symbol': 'IBM', 'date': '2025-07-09', 'open': 291.39, 'high': 291.6, 'low': 288.63, 'close': 290.14, 'volume': 2971309}, {'symbol': 'IBM', 'date': '2025-07-08', 'open': 293.1, 'high': 295.61, 'low': 289.49, 'close': 290.42, 'volume': 2925329}, {'symbol': 'IBM', 'date': '2025-07-07', 'open': 292.5, 'high': 295.2199, 'low': 290.3607, 'close': 292.47, 'volume': 4488064}, {'symbol': 'IBM', 'date': '2025-07-03', 'open': 287.94, 'high': 292.32, 'low': 287.9, 'close': 291.97, 'volume': 1853289}, {'symbol': 'IBM', 'date': '2025-07-02', 'open': 290.0, 'high': 290.19, 'low': 286.9, 'close': 287.65, 'volume': 3257515}]\n",
            "\n",
            "RUN 1: Running ETL pipeline for IBM\n",
            "\n",
            "Connecting to Snowflake\n",
            "Created table RAW.STOCK_PRICES successfully\n",
            "Starting SQL transaction\n",
            "Deleted 62 existing records for IBM\n",
            "Successfully added 62 records to RAW.STOCK_PRICES\n",
            "\n",
            "Record count after first run: 62 (Expected: 62 trading days)\n",
            "\n",
            "RUN 2: Running pipeline again to test Idempotency\n",
            "\n",
            "Connecting to Snowflake\n",
            "Created table RAW.STOCK_PRICES successfully\n",
            "Starting SQL transaction\n",
            "Deleted 62 existing records for IBM\n",
            "Successfully added 62 records to RAW.STOCK_PRICES\n",
            "\n",
            "Record count after second run (Idempotency Check): 62 (Expected: 62 trading days)\n",
            "\n",
            "\n",
            "Idempotency successfully demonstrated\n",
            "The record count remained the same after two consecutive runs\n",
            "It confirms the transactional DELETE/INSERT works as an idempotent operation\n"
          ]
        }
      ]
    }
  ]
}